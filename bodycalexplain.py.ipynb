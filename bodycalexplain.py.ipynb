{
 "cells": [
  {
   "cell_type": "markdown",
   "id": "8c59a670",
   "metadata": {},
   "source": [
    "# bodycal"
   ]
  },
  {
   "cell_type": "code",
   "execution_count": 24,
   "id": "2133eef7",
   "metadata": {},
   "outputs": [],
   "source": [
    "import bodycal"
   ]
  },
  {
   "cell_type": "code",
   "execution_count": 2,
   "id": "90a79a3c",
   "metadata": {},
   "outputs": [
    {
     "data": {
      "text/plain": [
       "<function bodycal.fat_perc_male_cm_exp(abdomen, neck, height)>"
      ]
     },
     "execution_count": 2,
     "metadata": {},
     "output_type": "execute_result"
    }
   ],
   "source": [
    "bodycal.fat_perc_male_cm_exp"
   ]
  },
  {
   "cell_type": "markdown",
   "id": "e049364f",
   "metadata": {},
   "source": [
    "## Body Fat Percantage"
   ]
  },
  {
   "cell_type": "markdown",
   "id": "4a450340",
   "metadata": {},
   "source": [
    "This body fat percantage calculation formula using by American Navy.\n",
    "\n",
    "The calculation differs between man and woman.\n",
    "\n"
   ]
  },
  {
   "cell_type": "markdown",
   "id": "1df3a779",
   "metadata": {},
   "source": [
    "This function takes three argument for men:\n",
    "\n",
    "The measurement of;\n",
    "- abdomen\n",
    "- neck\n",
    "- height"
   ]
  },
  {
   "cell_type": "code",
   "execution_count": 3,
   "id": "fb116649",
   "metadata": {
    "scrolled": false
   },
   "outputs": [
    {
     "name": "stdout",
     "output_type": "stream",
     "text": [
      "46.58\n"
     ]
    }
   ],
   "source": [
    "bodycal.fat_perc_male_cm(100,38,93)"
   ]
  },
  {
   "cell_type": "markdown",
   "id": "1355a5b4",
   "metadata": {},
   "source": [
    "Here for you to check measurements:"
   ]
  },
  {
   "cell_type": "code",
   "execution_count": 4,
   "id": "414941d0",
   "metadata": {},
   "outputs": [
    {
     "data": {
      "text/plain": [
       "<function bodycal.fat_perc_female_cm(abdomen, hip, neck, height)>"
      ]
     },
     "execution_count": 4,
     "metadata": {},
     "output_type": "execute_result"
    }
   ],
   "source": [
    "bodycal.fat_perc_female_cm"
   ]
  },
  {
   "cell_type": "code",
   "execution_count": 5,
   "id": "c69ff864",
   "metadata": {
    "scrolled": false
   },
   "outputs": [
    {
     "name": "stdout",
     "output_type": "stream",
     "text": [
      "19.71\n"
     ]
    }
   ],
   "source": [
    "bodycal.fat_perc_female_cm(70,100,38,185)"
   ]
  },
  {
   "cell_type": "markdown",
   "id": "42d9f672",
   "metadata": {},
   "source": [
    "I also add explanation if you want more information about that, just add exp to your function"
   ]
  },
  {
   "cell_type": "code",
   "execution_count": 6,
   "id": "0041ac62",
   "metadata": {},
   "outputs": [
    {
     "name": "stdout",
     "output_type": "stream",
     "text": [
      "Your body fat percantage is 19.71.\n",
      "Your category atlethe body according to American Council on Exercise (ACE).\n"
     ]
    }
   ],
   "source": [
    "bodycal.fat_perc_female_cm_exp(70,100,38,185)"
   ]
  },
  {
   "cell_type": "code",
   "execution_count": 7,
   "id": "8eec3549",
   "metadata": {
    "scrolled": false
   },
   "outputs": [
    {
     "name": "stdout",
     "output_type": "stream",
     "text": [
      "Your body fat percantage is 46.58.\n",
      "Category is obesity according to American Council on Exercise (ACE).\n"
     ]
    }
   ],
   "source": [
    "bodycal.fat_perc_male_cm_exp(100,38,93)"
   ]
  },
  {
   "cell_type": "markdown",
   "id": "e7859fcf",
   "metadata": {},
   "source": [
    "You can also change the scale from cm to inch"
   ]
  },
  {
   "cell_type": "code",
   "execution_count": 8,
   "id": "b68a871e",
   "metadata": {
    "scrolled": false
   },
   "outputs": [
    {
     "name": "stdout",
     "output_type": "stream",
     "text": [
      "51.6\n"
     ]
    }
   ],
   "source": [
    "bodycal.fat_perc_male_inc(45,15,40)"
   ]
  },
  {
   "cell_type": "markdown",
   "id": "f985edbb",
   "metadata": {},
   "source": [
    "## Body Mass Index"
   ]
  },
  {
   "cell_type": "markdown",
   "id": "e48020c2",
   "metadata": {},
   "source": [
    "While calculating BMI, it is important to see the range that you must in to be healthy.\n",
    "\n",
    "If you are not in the range, then it is vital for you to know, how much weight you have to lose?"
   ]
  },
  {
   "cell_type": "code",
   "execution_count": 21,
   "id": "40061ad1",
   "metadata": {},
   "outputs": [
    {
     "data": {
      "text/plain": [
       "<function bodycal.bmi_kg(weight, height)>"
      ]
     },
     "execution_count": 21,
     "metadata": {},
     "output_type": "execute_result"
    }
   ],
   "source": [
    "bodycal.bmi_kg"
   ]
  },
  {
   "cell_type": "code",
   "execution_count": 9,
   "id": "8a9d1836",
   "metadata": {
    "scrolled": false
   },
   "outputs": [
    {
     "name": "stdout",
     "output_type": "stream",
     "text": [
      "Welcome to Body Mass Index Calculator!\n",
      "Your BMI is 29.22 you are overweight!\n",
      "Your ideal weight range is between 62.97 kg and 85.56 kg.\n",
      "You have to lost 14.44 kg to be fit.\n"
     ]
    }
   ],
   "source": [
    "bodycal.bmi_kg_exp(100,185)"
   ]
  },
  {
   "cell_type": "markdown",
   "id": "e2a08652",
   "metadata": {},
   "source": [
    "Again, if you want to apply this code to big dataset, or just want to return single line."
   ]
  },
  {
   "cell_type": "code",
   "execution_count": 10,
   "id": "46137b0b",
   "metadata": {
    "scrolled": true
   },
   "outputs": [
    {
     "name": "stdout",
     "output_type": "stream",
     "text": [
      "29.218407596785973\n"
     ]
    }
   ],
   "source": [
    "bodycal.bmi_kg(100,185)"
   ]
  },
  {
   "cell_type": "markdown",
   "id": "028dd688",
   "metadata": {},
   "source": [
    "## Basal Metabolic Rate"
   ]
  },
  {
   "cell_type": "code",
   "execution_count": 22,
   "id": "5058670e",
   "metadata": {},
   "outputs": [
    {
     "data": {
      "text/plain": [
       "<function bodycal.bmr_male_cm(weight, height, age)>"
      ]
     },
     "execution_count": 22,
     "metadata": {},
     "output_type": "execute_result"
    }
   ],
   "source": [
    "bodycal.bmr_male_cm"
   ]
  },
  {
   "cell_type": "code",
   "execution_count": 12,
   "id": "ff27c95b",
   "metadata": {
    "scrolled": false
   },
   "outputs": [
    {
     "name": "stdout",
     "output_type": "stream",
     "text": [
      "Hi, welcome to the BMR Calculator!\n",
      "Your BMR is 1933 kcal\n"
     ]
    }
   ],
   "source": [
    "bodycal.bmr_male_cm_exp(85,185,32)"
   ]
  },
  {
   "cell_type": "markdown",
   "id": "8d476dfc",
   "metadata": {},
   "source": [
    "Also if you will use function in datasets, this function return single value"
   ]
  },
  {
   "cell_type": "code",
   "execution_count": 13,
   "id": "9726b063",
   "metadata": {
    "scrolled": false
   },
   "outputs": [
    {
     "name": "stdout",
     "output_type": "stream",
     "text": [
      "1933\n"
     ]
    }
   ],
   "source": [
    "bodycal.bmr_male_cm(85,185,32)"
   ]
  },
  {
   "cell_type": "markdown",
   "id": "4ff27511",
   "metadata": {},
   "source": [
    "So if you want to add measurement in inch:"
   ]
  },
  {
   "cell_type": "code",
   "execution_count": 23,
   "id": "3b658feb",
   "metadata": {
    "scrolled": true
   },
   "outputs": [
    {
     "data": {
      "text/plain": [
       "<function bodycal.bmr_male_inc(weight, height, age)>"
      ]
     },
     "execution_count": 23,
     "metadata": {},
     "output_type": "execute_result"
    }
   ],
   "source": [
    "bodycal.bmr_male_inc"
   ]
  },
  {
   "cell_type": "code",
   "execution_count": 15,
   "id": "5c265096",
   "metadata": {
    "scrolled": false
   },
   "outputs": [
    {
     "name": "stdout",
     "output_type": "stream",
     "text": [
      "1306\n"
     ]
    }
   ],
   "source": [
    "bodycal.bmr_male_inc(38,73,32)"
   ]
  },
  {
   "cell_type": "code",
   "execution_count": 18,
   "id": "22902c9b",
   "metadata": {
    "scrolled": false
   },
   "outputs": [
    {
     "name": "stdout",
     "output_type": "stream",
     "text": [
      "Hi, welcome to the BMR Calculator!\n",
      "Your BMR is 1868 kcal\n"
     ]
    }
   ],
   "source": [
    "bodycal.bmr_male_inc_exp(80,73,32)"
   ]
  },
  {
   "cell_type": "code",
   "execution_count": 19,
   "id": "e3ec5735",
   "metadata": {
    "scrolled": true
   },
   "outputs": [
    {
     "name": "stdout",
     "output_type": "stream",
     "text": [
      "1340\n"
     ]
    }
   ],
   "source": [
    "bodycal.bmr_woman_inc(60,60,31)"
   ]
  },
  {
   "cell_type": "code",
   "execution_count": 20,
   "id": "b6995e8c",
   "metadata": {},
   "outputs": [
    {
     "name": "stdout",
     "output_type": "stream",
     "text": [
      "Hi, welcome BMR Calculator!\n",
      "Your BMR is 1340 kcal\n"
     ]
    }
   ],
   "source": [
    "bodycal.bmr_woman_inc_exp(60,60,31)"
   ]
  }
 ],
 "metadata": {
  "kernelspec": {
   "display_name": "Python 3 (ipykernel)",
   "language": "python",
   "name": "python3"
  },
  "language_info": {
   "codemirror_mode": {
    "name": "ipython",
    "version": 3
   },
   "file_extension": ".py",
   "mimetype": "text/x-python",
   "name": "python",
   "nbconvert_exporter": "python",
   "pygments_lexer": "ipython3",
   "version": "3.9.7"
  }
 },
 "nbformat": 4,
 "nbformat_minor": 5
}
