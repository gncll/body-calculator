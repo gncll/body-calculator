{
 "cells": [
  {
   "cell_type": "markdown",
   "id": "d2f2a52b",
   "metadata": {},
   "source": [
    "# bodycal"
   ]
  },
  {
   "cell_type": "code",
   "execution_count": 1,
   "id": "2133eef7",
   "metadata": {},
   "outputs": [],
   "source": [
    "import bodycal"
   ]
  },
  {
   "cell_type": "code",
   "execution_count": 2,
   "id": "90a79a3c",
   "metadata": {},
   "outputs": [
    {
     "data": {
      "text/plain": [
       "<function bodycal.fat_perc_male_cm_exp(abdomen, neck, height)>"
      ]
     },
     "execution_count": 2,
     "metadata": {},
     "output_type": "execute_result"
    }
   ],
   "source": [
    "bodycal.fat_perc_male_cm_exp"
   ]
  },
  {
   "cell_type": "markdown",
   "id": "ce7238eb",
   "metadata": {},
   "source": [
    "## Body Fat Percantage"
   ]
  },
  {
   "cell_type": "markdown",
   "id": "db5ad65f",
   "metadata": {},
   "source": [
    "This body fat percantage calculation formula using by American Navy.\n",
    "\n",
    "The calculation differs between man and woman.\n",
    "\n"
   ]
  },
  {
   "cell_type": "code",
   "execution_count": 18,
   "id": "08ba6ac6",
   "metadata": {
    "scrolled": true
   },
   "outputs": [
    {
     "name": "stdout",
     "output_type": "stream",
     "text": [
      "46.58\n"
     ]
    }
   ],
   "source": [
    "bodycal.fat_perc_male_cm(100,38,93)"
   ]
  },
  {
   "cell_type": "code",
   "execution_count": 22,
   "id": "e477f4ad",
   "metadata": {
    "scrolled": true
   },
   "outputs": [
    {
     "name": "stdout",
     "output_type": "stream",
     "text": [
      "19.71\n"
     ]
    }
   ],
   "source": [
    "bodycal.fat_perc_female_cm(70,100,38,185)"
   ]
  },
  {
   "cell_type": "markdown",
   "id": "5932b020",
   "metadata": {},
   "source": [
    "I also add explanation if you want more information about that, just add exp to your function"
   ]
  },
  {
   "cell_type": "code",
   "execution_count": 24,
   "id": "e11da748",
   "metadata": {},
   "outputs": [
    {
     "name": "stdout",
     "output_type": "stream",
     "text": [
      "Your body fat percantage is 19.71.\n",
      "Your category atlethe body according to American Council on Exercise (ACE).\n"
     ]
    }
   ],
   "source": [
    "bodycal.fat_perc_female_cm_exp(70,100,38,185)"
   ]
  },
  {
   "cell_type": "code",
   "execution_count": 14,
   "id": "8eec3549",
   "metadata": {
    "scrolled": false
   },
   "outputs": [
    {
     "name": "stdout",
     "output_type": "stream",
     "text": [
      "Your body fat percantage is 46.58.\n",
      "Category is obesity according to American Council on Exercise (ACE).\n"
     ]
    }
   ],
   "source": [
    "bodycal.fat_perc_male_cm_exp(100,38,93)"
   ]
  },
  {
   "cell_type": "markdown",
   "id": "f857da88",
   "metadata": {},
   "source": [
    "You can also change the scale from cm to inch"
   ]
  },
  {
   "cell_type": "code",
   "execution_count": 26,
   "id": "3dc70bcc",
   "metadata": {
    "scrolled": false
   },
   "outputs": [
    {
     "name": "stdout",
     "output_type": "stream",
     "text": [
      "51.6\n"
     ]
    }
   ],
   "source": [
    "bodycal.fat_perc_male_inc(45,15,40)"
   ]
  },
  {
   "cell_type": "markdown",
   "id": "389fed4b",
   "metadata": {},
   "source": [
    "General logic behind bodycal library is stated above. \n",
    "\n",
    "More examples of other my conversation will be added by time."
   ]
  },
  {
   "cell_type": "markdown",
   "id": "719fdd67",
   "metadata": {},
   "source": [
    "## Body Mass Index"
   ]
  },
  {
   "cell_type": "code",
   "execution_count": 27,
   "id": "68f568c7",
   "metadata": {
    "scrolled": true
   },
   "outputs": [
    {
     "name": "stdout",
     "output_type": "stream",
     "text": [
      "Welcome to Body Mass Index Calculator!\n",
      "Your BMI is 29.22 you are overweight!\n",
      "Your ideal weight range is between 62.97 kg and 85.56 kg.\n",
      "You have to lost 14.44 kg to be fit.\n"
     ]
    }
   ],
   "source": [
    "bodycal.bmi_kg_exp(100,185)"
   ]
  },
  {
   "cell_type": "code",
   "execution_count": 28,
   "id": "55fc41da",
   "metadata": {
    "scrolled": true
   },
   "outputs": [
    {
     "name": "stdout",
     "output_type": "stream",
     "text": [
      "29.218407596785973\n"
     ]
    }
   ],
   "source": [
    "bodycal.bmi_kg(100,185)"
   ]
  },
  {
   "cell_type": "code",
   "execution_count": 16,
   "id": "32591b6b",
   "metadata": {},
   "outputs": [
    {
     "name": "stdout",
     "output_type": "stream",
     "text": [
      "23.37472607742878\n"
     ]
    }
   ],
   "source": [
    "bodycal.bmi_kg(80,185)"
   ]
  },
  {
   "cell_type": "markdown",
   "id": "9b4c8d1b",
   "metadata": {},
   "source": [
    "## Basal Metabolic Rate"
   ]
  },
  {
   "cell_type": "code",
   "execution_count": 30,
   "id": "3ee42c13",
   "metadata": {
    "scrolled": false
   },
   "outputs": [
    {
     "name": "stdout",
     "output_type": "stream",
     "text": [
      "Hi, welcome to the BMR Calculator!\n",
      "Your BMR is 1933 kcal\n"
     ]
    }
   ],
   "source": [
    "bodycal.bmr_male_cm_exp(85,185,32)"
   ]
  },
  {
   "cell_type": "markdown",
   "id": "b29551ae",
   "metadata": {},
   "source": [
    "Also if you will use function in datasets, this function return single value"
   ]
  },
  {
   "cell_type": "code",
   "execution_count": 31,
   "id": "74a4c197",
   "metadata": {
    "scrolled": true
   },
   "outputs": [
    {
     "name": "stdout",
     "output_type": "stream",
     "text": [
      "1933\n"
     ]
    }
   ],
   "source": [
    "bodycal.bmr_male_cm(85,185,32)"
   ]
  },
  {
   "cell_type": "code",
   "execution_count": null,
   "id": "a8a07e29",
   "metadata": {},
   "outputs": [],
   "source": []
  }
 ],
 "metadata": {
  "kernelspec": {
   "display_name": "Python 3 (ipykernel)",
   "language": "python",
   "name": "python3"
  },
  "language_info": {
   "codemirror_mode": {
    "name": "ipython",
    "version": 3
   },
   "file_extension": ".py",
   "mimetype": "text/x-python",
   "name": "python",
   "nbconvert_exporter": "python",
   "pygments_lexer": "ipython3",
   "version": "3.9.7"
  }
 },
 "nbformat": 4,
 "nbformat_minor": 5
}
