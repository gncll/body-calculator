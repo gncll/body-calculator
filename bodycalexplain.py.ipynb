{
 "cells": [
  {
   "cell_type": "code",
   "execution_count": 1,
   "id": "2133eef7",
   "metadata": {},
   "outputs": [],
   "source": [
    "import bodycal"
   ]
  },
  {
   "cell_type": "code",
   "execution_count": 2,
   "id": "90a79a3c",
   "metadata": {},
   "outputs": [
    {
     "data": {
      "text/plain": [
       "<function bodycal.fat_perc_male_cm_exp(abdomen, neck, height)>"
      ]
     },
     "execution_count": 2,
     "metadata": {},
     "output_type": "execute_result"
    }
   ],
   "source": [
    "bodycal.fat_perc_male_cm_exp"
   ]
  },
  {
   "cell_type": "markdown",
   "id": "d6c40c84",
   "metadata": {},
   "source": [
    "# Body Fat Percantage"
   ]
  },
  {
   "cell_type": "markdown",
   "id": "271433cf",
   "metadata": {},
   "source": [
    "This body fat percantage calculation formula using by American Navy.\n",
    "\n",
    "The calculation differs between man and woman.\n",
    "\n"
   ]
  },
  {
   "cell_type": "code",
   "execution_count": 18,
   "id": "4b2b3ce1",
   "metadata": {
    "scrolled": true
   },
   "outputs": [
    {
     "name": "stdout",
     "output_type": "stream",
     "text": [
      "46.58\n"
     ]
    }
   ],
   "source": [
    "bodycal.fat_perc_male_cm(100,38,93)"
   ]
  },
  {
   "cell_type": "code",
   "execution_count": 22,
   "id": "01a15230",
   "metadata": {
    "scrolled": true
   },
   "outputs": [
    {
     "name": "stdout",
     "output_type": "stream",
     "text": [
      "19.71\n"
     ]
    }
   ],
   "source": [
    "bodycal.fat_perc_female_cm(70,100,38,185)"
   ]
  },
  {
   "cell_type": "markdown",
   "id": "028c14c0",
   "metadata": {},
   "source": [
    "I also add explanation if you want more information about that, just add exp to your function"
   ]
  },
  {
   "cell_type": "code",
   "execution_count": 24,
   "id": "c704429f",
   "metadata": {},
   "outputs": [
    {
     "name": "stdout",
     "output_type": "stream",
     "text": [
      "Your body fat percantage is 19.71.\n",
      "Your category atlethe body according to American Council on Exercise (ACE).\n"
     ]
    }
   ],
   "source": [
    "bodycal.fat_perc_female_cm_exp(70,100,38,185)"
   ]
  },
  {
   "cell_type": "code",
   "execution_count": 14,
   "id": "8eec3549",
   "metadata": {
    "scrolled": false
   },
   "outputs": [
    {
     "name": "stdout",
     "output_type": "stream",
     "text": [
      "Your body fat percantage is 46.58.\n",
      "Category is obesity according to American Council on Exercise (ACE).\n"
     ]
    }
   ],
   "source": [
    "bodycal.fat_perc_male_cm_exp(100,38,93)"
   ]
  },
  {
   "cell_type": "markdown",
   "id": "aba1ada3",
   "metadata": {},
   "source": [
    "You can also change the scale from cm to inch"
   ]
  },
  {
   "cell_type": "code",
   "execution_count": 26,
   "id": "a6fa3e03",
   "metadata": {
    "scrolled": false
   },
   "outputs": [
    {
     "name": "stdout",
     "output_type": "stream",
     "text": [
      "51.6\n"
     ]
    }
   ],
   "source": [
    "bodycal.fat_perc_male_inc(45,15,40)"
   ]
  },
  {
   "cell_type": "markdown",
   "id": "55b6dc12",
   "metadata": {},
   "source": [
    "General logic behind bodycal library is stated above. \n",
    "\n",
    "More examples of other my conversation will be added by time."
   ]
  },
  {
   "cell_type": "code",
   "execution_count": null,
   "id": "613ebe95",
   "metadata": {},
   "outputs": [],
   "source": []
  }
 ],
 "metadata": {
  "kernelspec": {
   "display_name": "Python 3 (ipykernel)",
   "language": "python",
   "name": "python3"
  },
  "language_info": {
   "codemirror_mode": {
    "name": "ipython",
    "version": 3
   },
   "file_extension": ".py",
   "mimetype": "text/x-python",
   "name": "python",
   "nbconvert_exporter": "python",
   "pygments_lexer": "ipython3",
   "version": "3.9.7"
  }
 },
 "nbformat": 4,
 "nbformat_minor": 5
}
